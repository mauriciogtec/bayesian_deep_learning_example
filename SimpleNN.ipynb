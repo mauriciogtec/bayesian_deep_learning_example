{
 "cells": [
  {
   "cell_type": "code",
   "execution_count": 1,
   "metadata": {},
   "outputs": [],
   "source": [
    "import numpy as np\n",
    "import tensorflow as tf\n",
    "from matplotlib import pyplot as plt\n",
    "%matplotlib inline"
   ]
  },
  {
   "cell_type": "markdown",
   "metadata": {},
   "source": [
    "Generate pseudo-data"
   ]
  },
  {
   "cell_type": "code",
   "execution_count": 2,
   "metadata": {},
   "outputs": [
    {
     "data": {
      "text/plain": [
       "<matplotlib.collections.PathCollection at 0x222e17f6588>"
      ]
     },
     "execution_count": 2,
     "metadata": {},
     "output_type": "execute_result"
    },
    {
     "data": {
      "image/png": "[encoded data removed]",
      "text/plain": [
       "<matplotlib.figure.Figure at 0x222e16121d0>"
      ]
     },
     "metadata": {},
     "output_type": "display_data"
    }
   ],
   "source": [
    "n = 50\n",
    "np.random.seed(110104)\n",
    "x = 4.0 * (np.random.rand(n) - 0.5)\n",
    "xfeat = np.column_stack((x, x**2, x**3, x**4, x**5, x**6))\n",
    "y = 2.0 - 0.2*x + 0.2*(2*x - 0.5)**2 + 0.5*np.random.randn(n)\n",
    "y[2] = 0.0 # Artificial outlier\n",
    "y = y.reshape((n, 1))\n",
    "\n",
    "plt.scatter(x, y)"
   ]
  },
  {
   "cell_type": "markdown",
   "metadata": {},
   "source": [
    "Create a function to generate training batches"
   ]
  },
  {
   "cell_type": "code",
   "execution_count": 3,
   "metadata": {
    "collapsed": true
   },
   "outputs": [],
   "source": [
    "def get_batches(xfeat, y, batch_size):\n",
    "    n = xfeat.shape[0]\n",
    "    n_batches = n // batch_size\n",
    "    for i in range(n_batches):\n",
    "        yield xfeat[i*batch_size:(i + 1)*batch_size,:], y[i*batch_size:(i + 1)*batch_size, :]"
   ]
  },
  {
   "cell_type": "markdown",
   "metadata": {},
   "source": [
    "Create a very simple architecture with one hidden and a l2 regulariser"
   ]
  },
  {
   "cell_type": "code",
   "execution_count": 14,
   "metadata": {},
   "outputs": [],
   "source": [
    "def nn_input(n_features):\n",
    "    features = tf.placeholder(tf.float32, (None, n_features))\n",
    "    target = tf.placeholder(tf.float32, (None, 1))\n",
    "    lr = tf.placeholder(tf.float32)\n",
    "    penalty = tf.placeholder(tf.float32)\n",
    "    precision = tf.placeholder(tf.float32)\n",
    "    return features, target, lr, penalty, precision\n",
    "    \n",
    "def hidden_layer(features, n_features, n_hidden):\n",
    "    W = tf.Variable(tf.truncated_normal((n_features * n_hidden, ), stddev=1 / np.sqrt(n_hidden)))\n",
    "    b = tf.Variable(tf.zeros(n_hidden))\n",
    "    Wmat = tf.reshape(W, (n_features, n_hidden))\n",
    "    hidden = tf.nn.relu(tf.matmul(features, Wmat) + b)\n",
    "    return hidden, W, b\n",
    "\n",
    "def output_layer(hidden_layer, n_hidden):\n",
    "    W2 = tf.Variable(tf.truncated_normal((n_hidden, ), stddev=1 / np.sqrt(n_hidden)))\n",
    "    b2 = tf.Variable(tf.zeros(1))\n",
    "    output = tf.matmul(hidden_layer, tf.reshape(W2, (n_hidden, 1))) + b2\n",
    "    return output, W2, b2\n",
    "\n",
    "def nn_loss(output, target, penalty, precision, W, W2):\n",
    "    errors = output - target\n",
    "    weights = tf.concat([W, W2], axis = 0)\n",
    "    loss = precision * tf.reduce_sum(tf.square(errors)) + penalty * tf.reduce_sum(tf.square(weights))\n",
    "    return loss, errors, weights\n",
    "\n",
    "def nn_optimization(loss, lr):\n",
    "    optim = tf.train.AdamOptimizer(lr).minimize(loss)\n",
    "    return optim\n",
    "    \n",
    "class neural_network():\n",
    "    def __init__(self, n_features, n_hidden):\n",
    "        self.features, self.target, self.lr, self.penalty, self.precision = nn_input(n_features)\n",
    "        self.hidden, self.W, self.b = hidden_layer(self.features, n_features, n_hidden)\n",
    "        self.output, self.W2, self.b2 = output_layer(self.hidden, n_hidden)\n",
    "        self.loss, self.errors, self.weights = nn_loss(\n",
    "            self.output, self.target, self.penalty, self.precision, self.W, self.W2)\n",
    "        self.optim = nn_optimization(self.loss, self.lr)\n",
    "        self.hessian = tf.hessians(self.loss, [self.W, self.W2])[0] # Jesus! Hessians!"
   ]
  },
  {
   "cell_type": "markdown",
   "metadata": {},
   "source": [
    "Now create the neural network"
   ]
  },
  {
   "cell_type": "code",
   "execution_count": 59,
   "metadata": {},
   "outputs": [],
   "source": [
    "n_features = xfeat.shape[1]\n",
    "n_hidden = 2\n",
    "\n",
    "tf.reset_default_graph()\n",
    "nn = neural_network(n_features, n_hidden) # Takes some time to create just because there is a hessian!\n",
    "# nn.__dict__"
   ]
  },
  {
   "cell_type": "markdown",
   "metadata": {},
   "source": [
    "We now train and evaluate the network"
   ]
  },
  {
   "cell_type": "code",
   "execution_count": 77,
   "metadata": {},
   "outputs": [
    {
     "name": "stdout",
     "output_type": "stream",
     "text": [
      "epoch  1 training loss 627.6608\n",
      "epoch 10 training loss 105.6639\n",
      "epoch 20 training loss 66.8756\n",
      "epoch 30 training loss 50.0330\n",
      "epoch 40 training loss 42.4518\n",
      "epoch 50 training loss 39.2072\n"
     ]
    },
    {
     "data": {
      "image/png": "[encoded data removed]",
      "text/plain": [
       "<matplotlib.figure.Figure at 0x222e3309208>"
      ]
     },
     "metadata": {},
     "output_type": "display_data"
    }
   ],
   "source": [
    "epochs = 50\n",
    "print_every_epochs = 10\n",
    "batch_size = 5\n",
    "lr = 0.01\n",
    "penalty = 5.0\n",
    "precision = 0.5\n",
    "\n",
    "with tf.Session() as sess:\n",
    "    # Training\n",
    "    sess.run(tf.global_variables_initializer())\n",
    "    fulldata_feed = {nn.features: xfeat, \n",
    "                     nn.target: y, \n",
    "                     nn.penalty: penalty, \n",
    "                     nn.precision: precision}\n",
    "    for epoch in range(epochs):\n",
    "        for batch_x, batch_y in get_batches(xfeat, y, batch_size):\n",
    "            batch_feed = {nn.features: batch_x, \n",
    "                          nn.target: batch_y, nn.lr: lr, \n",
    "                          nn.penalty: penalty, \n",
    "                          nn.precision: precision}\n",
    "            sess.run(nn.optim, batch_feed)\n",
    "        if epoch == 0 or (epoch  + 1) % print_every_epochs == 0:\n",
    "            loss = sess.run(nn.loss, fulldata_feed)\n",
    "            print(\"epoch %2d training loss %4.4f\" % (epoch + 1, loss))\n",
    "\n",
    "    # Visualize fit, errors, and weights\n",
    "    errors, weights, output = sess.run([nn.errors, nn.weights, nn.output], fulldata_feed)\n",
    "    fig, (ax0, ax1, ax2) = plt.subplots(1, 3, figsize = (12, 3))\n",
    "    ax0.scatter(x, output)\n",
    "    ax0.scatter(x, y)\n",
    "    ax0.set_title('Fitted vs Actual')\n",
    "    ax1.hist(errors)\n",
    "    ax1.set_title('distribution of errors')\n",
    "    ax2.hist(weights)\n",
    "    ax2.set_title(\"distribution of weights\")"
   ]
  },
  {
   "cell_type": "markdown",
   "metadata": {},
   "source": [
    "Let's repeat this but with Bayesian evidence!"
   ]
  },
  {
   "cell_type": "code",
   "execution_count": 90,
   "metadata": {},
   "outputs": [],
   "source": [
    "def log_evidence(hessian, loss, penalty, precision, n_hidden, n_obs, n_weights):\n",
    "    s, logdet = np.linalg.slogdet(hessian)\n",
    "    N, k = n_obs, n_weights\n",
    "    posterior_energy = -0.5*loss + 0.5*k*np.log(2*np.pi) - 0.5*logdet\n",
    "    weights_energy = 0.5 * k * np.log(2*np.pi / penalty) \n",
    "    model_energy = 0.5 * N * np.log(2*np.pi / precision)\n",
    "    symmetry_factor = n_hidden * np.log(2) + np.sum(np.log(np.arange(1, n_hidden + 1)))\n",
    "    return symmetry_factor + posterior_energy - weights_energy - model_energy"
   ]
  },
  {
   "cell_type": "code",
   "execution_count": 91,
   "metadata": {},
   "outputs": [
    {
     "name": "stdout",
     "output_type": "stream",
     "text": [
      "epoch  1 training loss 187.2768\n",
      "epoch 10 training loss 30.9016\n",
      "epoch 20 training loss 27.2079\n",
      "epoch 30 training loss 26.4732\n",
      "epoch 40 training loss 26.2448\n",
      "epoch 50 training loss 26.1871\n",
      "epoch 60 training loss 26.2653\n",
      "epoch 70 training loss 26.3259\n",
      "epoch 80 training loss 26.4934\n",
      "epoch 90 training loss 26.6580\n",
      "epoch 100 training loss 26.7983\n",
      "\n",
      "Bayesian logevidence: -90.1553\n"
     ]
    },
    {
     "data": {
      "image/png": "[encoded data removed]",
      "text/plain": [
       "<matplotlib.figure.Figure at 0x222e3d90080>"
      ]
     },
     "metadata": {},
     "output_type": "display_data"
    }
   ],
   "source": [
    "n_features = xfeat.shape[1]\n",
    "n_hidden = 10\n",
    "epochs = 100\n",
    "print_every_epochs = 10\n",
    "batch_size = 5\n",
    "lr = 0.01\n",
    "penalty = 1.0\n",
    "precision = 0.5\n",
    "\n",
    "tf.reset_default_graph()\n",
    "nn = neural_network(n_features, n_hidden) # Takes some time to create just because there is a hessian!\n",
    "\n",
    "with tf.Session() as sess:\n",
    "    # Training\n",
    "    sess.run(tf.global_variables_initializer())\n",
    "    fulldata_feed = {nn.features: xfeat, \n",
    "                     nn.target: y, \n",
    "                     nn.penalty: penalty, \n",
    "                     nn.precision: precision}\n",
    "    for epoch in range(epochs):\n",
    "        for batch_x, batch_y in get_batches(xfeat, y, batch_size):\n",
    "            batch_feed = {nn.features: batch_x, \n",
    "                          nn.target: batch_y, nn.lr: lr, \n",
    "                          nn.penalty: penalty, \n",
    "                          nn.precision: precision}\n",
    "            sess.run(nn.optim, batch_feed)\n",
    "        if epoch == 0 or (epoch  + 1) % print_every_epochs == 0:\n",
    "            loss = sess.run(nn.loss, fulldata_feed)\n",
    "            print(\"epoch %2d training loss %4.4f\" % (epoch + 1, loss))\n",
    "\n",
    "    # Log evidence\n",
    "    hessian, loss, output, weights = sess.run([nn.hessian, nn.loss, nn.output, nn.weights], fulldata_feed)\n",
    "    levidence = log_evidence(hessian, loss, penalty, precision, n_hidden, len(output), len(weights)) \n",
    "    print(\"\\nBayesian logevidence: %4.4f\" % (levidence))\n",
    "    \n",
    "    # Visualize fit\n",
    "    plt.scatter(x, output)\n",
    "    plt.scatter(x, y)\n",
    "    plt.title('Fitted vs Actual')\n"
   ]
  },
  {
   "cell_type": "markdown",
   "metadata": {},
   "source": [
    "Test and compare evidence for multiple precisions and noises"
   ]
  },
  {
   "cell_type": "code",
   "execution_count": null,
   "metadata": {
    "collapsed": true
   },
   "outputs": [],
   "source": []
  }
 ],
 "metadata": {
  "kernelspec": {
   "display_name": "Python 3",
   "language": "python",
   "name": "python3"
  },
  "language_info": {
   "codemirror_mode": {
    "name": "ipython",
    "version": 3
   },
   "file_extension": ".py",
   "mimetype": "text/x-python",
   "name": "python",
   "nbconvert_exporter": "python",
   "pygments_lexer": "ipython3",
   "version": "3.6.1"
  }
 },
 "nbformat": 4,
 "nbformat_minor": 2
}
