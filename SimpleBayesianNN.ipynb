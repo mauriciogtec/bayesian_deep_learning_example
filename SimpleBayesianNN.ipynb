{
 "cells": [
  {
   "cell_type": "code",
   "execution_count": 1,
   "metadata": {
    "collapsed": true
   },
   "outputs": [],
   "source": [
    "import numpy as np\n",
    "import tensorflow as tf\n",
    "from matplotlib import pyplot as plt\n",
    "%matplotlib inline"
   ]
  },
  {
   "cell_type": "markdown",
   "metadata": {},
   "source": [
    "Generate pseudo-data"
   ]
  },
  {
   "cell_type": "code",
   "execution_count": 2,
   "metadata": {},
   "outputs": [
    {
     "data": {
      "text/plain": [
       "<matplotlib.collections.PathCollection at 0x26cf73f7d68>"
      ]
     },
     "execution_count": 2,
     "metadata": {},
     "output_type": "execute_result"
    },
    {
     "data": {
      "image/png": "[encoded data removed]",
      "text/plain": [
       "<matplotlib.figure.Figure at 0x26cf6fcca20>"
      ]
     },
     "metadata": {},
     "output_type": "display_data"
    }
   ],
   "source": [
    "n = 150\n",
    "np.random.seed(110104)\n",
    "x = 4.0 * (np.random.rand(n) - 0.5)\n",
    "xfeat = np.column_stack((x**i for i in range(1, 9))) # polynomials up to degree 8\n",
    "y = 2.0 - 0.2*x + 0.2*(2*x - 0.5)**2 + 0.2 * np.random.randn(n)\n",
    "y[2] = 4.0 # Artificial outliers\n",
    "y[3] = 7.0 # Artificial outliers\n",
    "y[10] = 5.0 # Artificial outliers\n",
    "y = y.reshape((n, 1))\n",
    "\n",
    "plt.scatter(x, y)"
   ]
  },
  {
   "cell_type": "markdown",
   "metadata": {},
   "source": [
    "Let's split data in test and train (we'll use only train for Bayesian evidence and test for cross-validation)"
   ]
  },
  {
   "cell_type": "code",
   "execution_count": 3,
   "metadata": {
    "collapsed": true
   },
   "outputs": [],
   "source": [
    "n_train = 75\n",
    "xfeat_train, y_train = xfeat[:n_train, :], y[:n_train, :]\n",
    "xfeat_test, y_test = xfeat[n_train:, :], y[n_train:, :]"
   ]
  },
  {
   "cell_type": "markdown",
   "metadata": {},
   "source": [
    "This is a function to generate training batches"
   ]
  },
  {
   "cell_type": "code",
   "execution_count": 4,
   "metadata": {
    "collapsed": true
   },
   "outputs": [],
   "source": [
    "def get_batches(xfeat, y, batch_size):\n",
    "    n_batches = xfeat.shape[0] // batch_size\n",
    "    for i in range(n_batches):\n",
    "        yield xfeat[i*batch_size:(i + 1)*batch_size,:], y[i*batch_size:(i + 1)*batch_size,:]"
   ]
  },
  {
   "cell_type": "markdown",
   "metadata": {},
   "source": [
    "Create a very simple architecture with one hidden and a l2 regulariser"
   ]
  },
  {
   "cell_type": "code",
   "execution_count": 5,
   "metadata": {},
   "outputs": [],
   "source": [
    "def nn_input(dim_features, dim_output):\n",
    "    features = tf.placeholder(tf.float32, (None, dim_features))\n",
    "    target = tf.placeholder(tf.float32, (None, dim_output))\n",
    "    lr = tf.placeholder(tf.float32)\n",
    "    penalty = tf.placeholder(tf.float32)\n",
    "    precision = tf.placeholder(tf.float32)\n",
    "    return features, target, lr, penalty, precision\n",
    "    \n",
    "def hidden_layer(features, dim_features, dim_hidden):\n",
    "    # The weights are created as a vector so that taking hessian is easier\n",
    "    W = tf.Variable(tf.truncated_normal((dim_features*dim_hidden, ), stddev=1/np.sqrt(dim_features*dim_hidden)))\n",
    "    Wmat = tf.reshape(W, (dim_features, dim_hidden))\n",
    "    b = tf.Variable(tf.zeros(dim_hidden))\n",
    "    hidden = tf.nn.relu(tf.matmul(features, Wmat) + b)\n",
    "    return hidden, W, b\n",
    "\n",
    "def output_layer(hidden, dim_hidden, dim_output):\n",
    "    # The weights are created as a vector so that taking hessian is easier\n",
    "    W2 = tf.Variable(tf.truncated_normal((dim_hidden*dim_output, ), stddev=1/np.sqrt(dim_hidden*dim_output)))\n",
    "    W2mat = tf.reshape(W2, (dim_hidden, dim_output))\n",
    "    b2 = tf.Variable(tf.zeros(1))\n",
    "    output = tf.matmul(hidden, W2mat) + b2\n",
    "    return output, W2, b2\n",
    "\n",
    "def nn_loss(output, target, penalty, precision, W, W2):\n",
    "    errors = output - target\n",
    "    weights = tf.concat([W, W2], axis = 0)\n",
    "    loss = precision * tf.reduce_sum(tf.square(errors)) + penalty * tf.reduce_sum(tf.square(weights))\n",
    "    return loss, errors, weights\n",
    "\n",
    "def nn_optimization(loss, lr):\n",
    "    optim = tf.train.AdamOptimizer(lr).minimize(loss)\n",
    "    return optim\n",
    "    \n",
    "class neural_network():\n",
    "    def __init__(self, dim_features, dim_output, dim_hidden):\n",
    "        self.features, self.target, self.lr, self.penalty, self.precision = nn_input(dim_features, dim_output)\n",
    "        self.hidden, self.W, self.b = hidden_layer(self.features, dim_features, dim_hidden)\n",
    "        self.output, self.W2, self.b2 = output_layer(self.hidden, dim_hidden, dim_output)\n",
    "        self.loss, self.errors, self.weights = nn_loss(\n",
    "            self.output, self.target, self.penalty, self.precision, self.W, self.W2)\n",
    "        self.optim = nn_optimization(self.loss, self.lr)\n",
    "        self.hessian = tf.hessians(self.loss, [self.W, self.W2])[0] # Jesus! Hessians!"
   ]
  },
  {
   "cell_type": "markdown",
   "metadata": {},
   "source": [
    "Now create the neural network"
   ]
  },
  {
   "cell_type": "code",
   "execution_count": 6,
   "metadata": {},
   "outputs": [
    {
     "data": {
      "text/plain": [
       "{'W': <tf.Variable 'Variable:0' shape=(400,) dtype=float32_ref>,\n",
       " 'W2': <tf.Variable 'Variable_2:0' shape=(50,) dtype=float32_ref>,\n",
       " 'b': <tf.Variable 'Variable_1:0' shape=(50,) dtype=float32_ref>,\n",
       " 'b2': <tf.Variable 'Variable_3:0' shape=(1,) dtype=float32_ref>,\n",
       " 'errors': <tf.Tensor 'sub:0' shape=(?, 1) dtype=float32>,\n",
       " 'features': <tf.Tensor 'Placeholder:0' shape=(?, 8) dtype=float32>,\n",
       " 'hessian': <tf.Tensor 'TensorArrayStack/TensorArrayGatherV3:0' shape=(?, 400) dtype=float32>,\n",
       " 'hidden': <tf.Tensor 'Relu:0' shape=(?, 50) dtype=float32>,\n",
       " 'loss': <tf.Tensor 'add_2:0' shape=<unknown> dtype=float32>,\n",
       " 'lr': <tf.Tensor 'Placeholder_2:0' shape=<unknown> dtype=float32>,\n",
       " 'optim': <tf.Operation 'Adam' type=NoOp>,\n",
       " 'output': <tf.Tensor 'add_1:0' shape=(?, 1) dtype=float32>,\n",
       " 'penalty': <tf.Tensor 'Placeholder_3:0' shape=<unknown> dtype=float32>,\n",
       " 'precision': <tf.Tensor 'Placeholder_4:0' shape=<unknown> dtype=float32>,\n",
       " 'target': <tf.Tensor 'Placeholder_1:0' shape=(?, 1) dtype=float32>,\n",
       " 'weights': <tf.Tensor 'concat:0' shape=(450,) dtype=float32>}"
      ]
     },
     "execution_count": 6,
     "metadata": {},
     "output_type": "execute_result"
    }
   ],
   "source": [
    "dim_features = xfeat_train.shape[1]\n",
    "dim_output = y_train.shape[1]\n",
    "dim_hidden = 50\n",
    "\n",
    "tf.reset_default_graph()\n",
    "nn = neural_network(dim_features, dim_output, dim_hidden) # Takes some time to create just because there is a hessian!\n",
    "nn.__dict__"
   ]
  },
  {
   "cell_type": "markdown",
   "metadata": {},
   "source": [
    "We now train and evaluate the network"
   ]
  },
  {
   "cell_type": "code",
   "execution_count": 7,
   "metadata": {},
   "outputs": [
    {
     "name": "stdout",
     "output_type": "stream",
     "text": [
      "epoch  1 training loss 17790.0508\n",
      "epoch 50 training loss 1107.5819\n",
      "epoch 100 training loss 917.8268\n",
      "epoch 150 training loss 899.8101\n",
      "epoch 200 training loss 910.8828\n",
      "epoch 250 training loss 920.6224\n",
      "epoch 300 training loss 912.0665\n",
      "epoch 350 training loss 900.4312\n",
      "epoch 400 training loss 902.7212\n",
      "epoch 450 training loss 899.2335\n",
      "epoch 500 training loss 910.1176\n"
     ]
    },
    {
     "data": {
      "image/png": "[encoded data removed]",
      "text/plain": [
       "<matplotlib.figure.Figure at 0x26cf8fa2eb8>"
      ]
     },
     "metadata": {},
     "output_type": "display_data"
    }
   ],
   "source": [
    "epochs = 500\n",
    "print_every_epochs = 50\n",
    "batch_size = 10\n",
    "lr = 0.01\n",
    "penalty = 0.00000001\n",
    "precision = 25.0 # because we use noise with sigma = 0.2\n",
    "\n",
    "hyperparams= {nn.penalty: penalty, nn.precision: precision, nn.lr: lr}\n",
    "full_training_feed = {nn.features: xfeat_train, nn.target: y_train, **hyperparams}\n",
    "\n",
    "with tf.Session() as sess:\n",
    "    # Training\n",
    "    sess.run(tf.global_variables_initializer())\n",
    " \n",
    "    for epoch in range(epochs):\n",
    "        for batch_x, batch_y in get_batches(xfeat_train, y_train, batch_size):\n",
    "            batch_feed = {nn.features: batch_x, nn.target: batch_y, **hyperparams}\n",
    "            sess.run(nn.optim, batch_feed)\n",
    "        if epoch == 0 or (epoch  + 1) % print_every_epochs == 0:\n",
    "            loss = sess.run(nn.loss, full_training_feed)\n",
    "            print(\"epoch %2d training loss %4.4f\" % (epoch + 1, loss))\n",
    "\n",
    "    # Visualize fit, errors, and weights\n",
    "    errors, weights, output = sess.run([nn.errors, nn.weights, nn.output], full_training_feed)\n",
    "    fig, (ax0, ax1, ax2) = plt.subplots(1, 3, figsize = (12, 3))\n",
    "    ax0.scatter(xfeat_train[:,0], y_train)\n",
    "    ax0.scatter(xfeat_train[:,0], output)\n",
    "    ax0.set_title('Fitted vs Actual')\n",
    "    ax1.hist(errors)\n",
    "    ax1.set_title('distribution of errors')\n",
    "    ax2.hist(weights)\n",
    "    ax2.set_title(\"distribution of weights\")"
   ]
  },
  {
   "cell_type": "markdown",
   "metadata": {},
   "source": [
    "Let's repeat this but with Bayesian evidence!"
   ]
  },
  {
   "cell_type": "code",
   "execution_count": 8,
   "metadata": {
    "collapsed": true
   },
   "outputs": [],
   "source": [
    "def log_evidence(hessian, loss, penalty, precision, dim_hidden, n_obs, n_weights):\n",
    "    s, logdet = np.linalg.slogdet(hessian)\n",
    "    N, k = n_obs, n_weights\n",
    "    posterior_energy = -0.5 * loss + 0.5 * k * np.log(2*np.pi) - 0.5 * logdet\n",
    "    weights_energy = 0.5 * k * np.log(2 * np.pi / penalty) \n",
    "    model_energy = 0.5 * N * np.log(2 * np.pi / precision)\n",
    "    symmetry_factor = dim_hidden * np.log(2) + np.sum(np.log(np.arange(1, dim_hidden + 1)))\n",
    "    return symmetry_factor + posterior_energy - weights_energy - model_energy"
   ]
  },
  {
   "cell_type": "code",
   "execution_count": 9,
   "metadata": {},
   "outputs": [],
   "source": [
    "def test_nn(\n",
    "        xfeat_train, y_train,\n",
    "        xfeat_test, y_test,\n",
    "        dim_hidden, \n",
    "        epochs,\n",
    "        batch_size,\n",
    "        lr,\n",
    "        penalty,\n",
    "        precision): \n",
    "    # Create network\n",
    "    dim_features = xfeat.shape[1]\n",
    "    dim_output = y.shape[1]\n",
    "    tf.reset_default_graph()\n",
    "    nn = neural_network(dim_features, dim_output, dim_hidden) # Takes some time to create just because there is a hessian!\n",
    "    # Feed dictionaries\n",
    "    hyperparams= {nn.penalty: penalty, nn.precision: precision, nn.lr: lr}\n",
    "    with tf.Session() as sess:\n",
    "        # Train\n",
    "        sess.run(tf.global_variables_initializer())\n",
    "        for epoch in range(epochs):\n",
    "            for batch_x, batch_y in get_batches(xfeat_train, y_train, batch_size):\n",
    "                batch_feed = {nn.features: batch_x, nn.target: batch_y, nn.lr: lr, **hyperparams}\n",
    "                sess.run(nn.optim, batch_feed)\n",
    "        # Find Bayesian (Log)evidence\n",
    "        full_train_feed = {nn.features: xfeat_train, nn.target: y_train, **hyperparams}\n",
    "        full_test_feed = {nn.features: xfeat_test, nn.target: y_test, **hyperparams}\n",
    "        hessian, loss_train, output, weights = sess.run([nn.hessian, nn.loss, nn.output, nn.weights], full_train_feed)\n",
    "        evidence = log_evidence(hessian, loss_train, penalty, precision, dim_hidden, len(output), len(weights)) \n",
    "        loss_test = sess.run(nn.loss, full_test_feed)\n",
    "        return evidence, loss_train, loss_test"
   ]
  },
  {
   "cell_type": "markdown",
   "metadata": {},
   "source": [
    "Test and compare evidence for multiple precisions and noises"
   ]
  },
  {
   "cell_type": "code",
   "execution_count": 10,
   "metadata": {},
   "outputs": [
    {
     "name": "stdout",
     "output_type": "stream",
     "text": [
      "dim_hid:    2  penalty:     0.00000001 evidence:   -591.45 loss_train:    930.00 loss_test:    157.71 \n",
      "dim_hid:    2  penalty:     0.00001000 evidence:   -633.35 loss_train:   1207.23 loss_test:    800.02 \n",
      "dim_hid:    2  penalty:     0.00010000 evidence:   -523.06 loss_train:    931.65 loss_test:    166.69 \n",
      "dim_hid:    2  penalty:     0.00100000 evidence:   -597.01 loss_train:   1221.68 loss_test:    790.66 \n",
      "dim_hid:    2  penalty:     0.01000000 evidence:   -470.03 loss_train:    921.28 loss_test:    161.26 \n",
      "dim_hid:    2  penalty:     0.10000000 evidence:   -449.66 loss_train:    928.52 loss_test:    158.19 \n",
      "dim_hid:    2  penalty:     1.00000000 evidence:   -447.59 loss_train:    940.14 loss_test:    153.88 \n",
      "dim_hid:    2  penalty:    10.00000000 evidence:   -482.78 loss_train:   1020.19 loss_test:    195.84 \n",
      "dim_hid:    2  penalty:   100.00000000 evidence:   -570.44 loss_train:   1215.16 loss_test:    317.88 \n",
      "dim_hid:    5  penalty:     0.00000001 evidence:   -666.82 loss_train:    893.62 loss_test:    225.38 \n",
      "dim_hid:    5  penalty:     0.00001000 evidence:   -591.14 loss_train:    886.06 loss_test:    242.94 \n",
      "dim_hid:    5  penalty:     0.00010000 evidence:   -557.33 loss_train:    894.22 loss_test:    216.71 \n",
      "dim_hid:    5  penalty:     0.00100000 evidence:   -535.94 loss_train:    870.76 loss_test:    226.22 \n",
      "dim_hid:    5  penalty:     0.01000000 evidence:   -482.15 loss_train:    882.97 loss_test:    233.39 \n",
      "dim_hid:    5  penalty:     0.10000000 evidence:   -466.99 loss_train:    902.68 loss_test:    209.42 \n",
      "dim_hid:    5  penalty:     1.00000000 evidence:   -457.93 loss_train:    897.17 loss_test:    259.27 \n",
      "dim_hid:    5  penalty:    10.00000000 evidence:   -458.81 loss_train:    976.72 loss_test:    186.07 \n",
      "dim_hid:    5  penalty:   100.00000000 evidence:   -574.32 loss_train:   1233.58 loss_test:    290.67 \n",
      "dim_hid:   10  penalty:     0.00000001 evidence:   -853.40 loss_train:    938.87 loss_test:    178.96 \n",
      "dim_hid:   10  penalty:     0.00001000 evidence:   -664.42 loss_train:    896.44 loss_test:    304.21 \n",
      "dim_hid:   10  penalty:     0.00010000 evidence:   -561.30 loss_train:    885.90 loss_test:    233.90 \n",
      "dim_hid:   10  penalty:     0.00100000 evidence:   -627.20 loss_train:   1121.87 loss_test:    679.61 \n",
      "dim_hid:   10  penalty:     0.01000000 evidence:   -531.22 loss_train:    909.40 loss_test:    329.34 \n",
      "dim_hid:   10  penalty:     0.10000000 evidence:   -477.35 loss_train:    885.40 loss_test:    223.00 \n",
      "dim_hid:   10  penalty:     1.00000000 evidence:   -451.65 loss_train:    886.33 loss_test:    227.79 \n",
      "dim_hid:   10  penalty:    10.00000000 evidence:   -460.04 loss_train:    975.50 loss_test:    331.71 \n",
      "dim_hid:   10  penalty:   100.00000000 evidence:   -576.69 loss_train:   1253.32 loss_test:    321.25 \n",
      "dim_hid:   25  penalty:     0.00000001 evidence:  -1181.99 loss_train:    871.01 loss_test:    259.00 \n",
      "dim_hid:   25  penalty:     0.00001000 evidence:   -781.34 loss_train:    886.85 loss_test:    239.57 \n",
      "dim_hid:   25  penalty:     0.00010000 evidence:   -712.44 loss_train:    879.73 loss_test:    273.07 \n",
      "dim_hid:   25  penalty:     0.00100000 evidence:   -642.14 loss_train:    895.71 loss_test:    232.12 \n",
      "dim_hid:   25  penalty:     0.01000000 evidence:   -553.21 loss_train:    873.18 loss_test:    232.01 \n",
      "dim_hid:   25  penalty:     0.10000000 evidence:   -488.51 loss_train:    871.18 loss_test:    255.97 \n",
      "dim_hid:   25  penalty:     1.00000000 evidence:   -440.35 loss_train:    885.49 loss_test:    219.61 \n",
      "dim_hid:   25  penalty:    10.00000000 evidence:   -427.05 loss_train:    945.97 loss_test:    167.14 \n",
      "dim_hid:   25  penalty:   100.00000000 evidence:   -520.28 loss_train:   1241.07 loss_test:    346.80 \n",
      "dim_hid:   50  penalty:     0.00000001 evidence:  -1624.83 loss_train:    898.49 loss_test:    329.30 \n",
      "dim_hid:   50  penalty:     0.00001000 evidence:   -982.26 loss_train:    794.13 loss_test:    302.79 \n",
      "dim_hid:   50  penalty:     0.00010000 evidence:   -801.57 loss_train:    806.96 loss_test:    271.60 \n",
      "dim_hid:   50  penalty:     0.00100000 evidence:   -722.61 loss_train:    858.85 loss_test:    230.38 \n",
      "dim_hid:   50  penalty:     0.01000000 evidence:   -593.74 loss_train:    891.03 loss_test:    247.01 \n",
      "dim_hid:   50  penalty:     0.10000000 evidence:   -488.49 loss_train:    880.03 loss_test:    230.38 \n",
      "dim_hid:   50  penalty:     1.00000000 evidence:   -412.56 loss_train:    879.59 loss_test:    221.13 \n",
      "dim_hid:   50  penalty:    10.00000000 evidence:   -361.27 loss_train:    949.03 loss_test:    166.05 \n",
      "dim_hid:   50  penalty:   100.00000000 evidence:   -414.93 loss_train:   1218.83 loss_test:    277.81 \n",
      "dim_hid:  100  penalty:     0.00000001 evidence:  -2662.18 loss_train:    831.63 loss_test:    229.93 \n",
      "dim_hid:  100  penalty:     0.00001000 evidence:  -1210.65 loss_train:    803.99 loss_test:    315.18 \n",
      "dim_hid:  100  penalty:     0.00010000 evidence:   -983.51 loss_train:    849.78 loss_test:    263.30 \n",
      "dim_hid:  100  penalty:     0.00100000 evidence:   -777.17 loss_train:    850.84 loss_test:    229.36 \n",
      "dim_hid:  100  penalty:     0.01000000 evidence:   -593.60 loss_train:    812.38 loss_test:    276.38 \n",
      "dim_hid:  100  penalty:     0.10000000 evidence:   -456.85 loss_train:    855.08 loss_test:    235.09 \n",
      "dim_hid:  100  penalty:     1.00000000 evidence:   -328.35 loss_train:    915.15 loss_test:    215.12 \n",
      "dim_hid:  100  penalty:    10.00000000 evidence:   -190.11 loss_train:    935.50 loss_test:    166.88 \n",
      "dim_hid:  100  penalty:   100.00000000 evidence:   -192.89 loss_train:   1230.06 loss_test:    280.83 \n"
     ]
    }
   ],
   "source": [
    "# Optimization parameters\n",
    "epochs = 500\n",
    "batch_size = 10\n",
    "lr = 0.01\n",
    "\n",
    "# Network parameters\n",
    "dim_hidden_list = [2, 5, 10, 25, 50, 100]\n",
    "penalty_list = [0.00000001, .00001, 0.0001, 0.001, 0.01, 0.1, 1.0, 10.0, 100.0]\n",
    "precision = 25.0\n",
    "\n",
    "evidence_trace = []\n",
    "generror_trace = []\n",
    "for dim_hidden in dim_hidden_list:   \n",
    "    for penalty in penalty_list:     \n",
    "        bayes_train, loss_train, loss_test = test_nn(\n",
    "            xfeat_train, y_train, xfeat_test, y_test, dim_hidden, epochs, batch_size, lr, penalty, precision)\n",
    "        evidence_trace.append(bayes_train)\n",
    "        generror_trace.append(loss_test)\n",
    "        print_str = 'dim_hid: %4d  penalty: %14.8f evidence: %9.2f' + \\\n",
    "            ' loss_train: %9.2f loss_test: %9.2f '\n",
    "        print(print_str %(dim_hidden, penalty, bayes_train, loss_train, loss_test))"
   ]
  },
  {
   "cell_type": "code",
   "execution_count": 13,
   "metadata": {},
   "outputs": [
    {
     "data": {
      "text/plain": [
       "<matplotlib.text.Text at 0x26c801e17f0>"
      ]
     },
     "execution_count": 13,
     "metadata": {},
     "output_type": "execute_result"
    },
    {
     "data": {
      "image/png": "[encoded data removed]",
      "text/plain": [
       "<matplotlib.figure.Figure at 0x26c826c4780>"
      ]
     },
     "metadata": {},
     "output_type": "display_data"
    }
   ],
   "source": [
    "plt.scatter(evidence_trace, generror_trace)\n",
    "plt.title('Bayes evidence vs Test error')\n",
    "plt.xlabel('Evidence')\n",
    "plt.ylabel('Test error')"
   ]
  },
  {
   "cell_type": "code",
   "execution_count": 14,
   "metadata": {},
   "outputs": [
    {
     "data": {
      "text/plain": [
       "(-1600, -200)"
      ]
     },
     "execution_count": 14,
     "metadata": {},
     "output_type": "execute_result"
    },
    {
     "data": {
      "image/png": "[encoded data removed]",
      "text/plain": [
       "<matplotlib.figure.Figure at 0x26cf9b2a470>"
      ]
     },
     "metadata": {},
     "output_type": "display_data"
    }
   ],
   "source": [
    "plt.scatter(evidence_trace, generror_trace)\n",
    "plt.title('Bayes evidence vs Test error (Zoom)')\n",
    "plt.xlabel('Evidence')\n",
    "plt.ylabel('Test error')\n",
    "plt.ylim(100, 600)\n",
    "plt.xlim(-1600, -200)"
   ]
  }
 ],
 "metadata": {
  "kernelspec": {
   "display_name": "Python 3",
   "language": "python",
   "name": "python3"
  },
  "language_info": {
   "codemirror_mode": {
    "name": "ipython",
    "version": 3
   },
   "file_extension": ".py",
   "mimetype": "text/x-python",
   "name": "python",
   "nbconvert_exporter": "python",
   "pygments_lexer": "ipython3",
   "version": "3.6.1"
  }
 },
 "nbformat": 4,
 "nbformat_minor": 2
}
