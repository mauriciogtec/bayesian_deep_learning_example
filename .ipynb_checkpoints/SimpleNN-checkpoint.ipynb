{
 "cells": [
  {
   "cell_type": "code",
   "execution_count": 1,
   "metadata": {
    "collapsed": true
   },
   "outputs": [],
   "source": [
    "import numpy as np\n",
    "import tensorflow as tf\n",
    "from matplotlib import pyplot as plt\n",
    "from mpl_toolkits.mplot3d import Axes3D\n",
    "%matplotlib inline"
   ]
  },
  {
   "cell_type": "markdown",
   "metadata": {},
   "source": [
    "Generate pseudo-data"
   ]
  },
  {
   "cell_type": "code",
   "execution_count": 54,
   "metadata": {},
   "outputs": [
    {
     "data": {
      "text/plain": [
       "<matplotlib.collections.PathCollection at 0x174b3bd2780>"
      ]
     },
     "execution_count": 54,
     "metadata": {},
     "output_type": "execute_result"
    },
    {
     "data": {
      "image/png": "[encoded data removed]",
      "text/plain": [
       "<matplotlib.figure.Figure at 0x174b26db438>"
      ]
     },
     "metadata": {},
     "output_type": "display_data"
    }
   ],
   "source": [
    "n = 100\n",
    "x = 4.0 * (np.random.rand(n) - 0.5)\n",
    "xfeat = np.column_stack((x, x**2))\n",
    "y = 2.0 - 0.2*x + 0.2*x**2 + 0.1*np.random.randn(n)\n",
    "\n",
    "plt.scatter(x, y)"
   ]
  },
  {
   "cell_type": "markdown",
   "metadata": {},
   "source": [
    "Create a very simple architecture with one hidden and a l2 regulariser"
   ]
  },
  {
   "cell_type": "code",
   "execution_count": 71,
   "metadata": {
    "collapsed": true
   },
   "outputs": [],
   "source": [
    "def neural_network_input(n_features):\n",
    "    features = tf.placeholder(tf.float32, (None, n_features))\n",
    "    target = tf.placeholder(tf.float32, (None, ))\n",
    "    learning_rate = tf.placeholder(tf.float32)\n",
    "    l2penalty = tf.placeholder(tf.float32)\n",
    "    return features, target, learning_rate, l2penalty\n",
    "    \n",
    "def hidden_layer(features, n_hidden):\n",
    "    input_size = features.get_shape().as_list()[1]\n",
    "    W = tf.Variable(tf.truncated_normal((input_size, n_hidden), stddev=1 / np.sqrt(n_hidden)))\n",
    "    b = tf.Variable(tf.zeros(n_hidden))\n",
    "    hidden = tf.nn.relu(tf.matmul(features, W) + b)\n",
    "    return hidden, W, b\n",
    "\n",
    "def output_layer(hidden_layer, n_hidden):\n",
    "    W2 = tf.Variable(tf.truncated_normal((n_hidden, 1), stddev=1 / np.sqrt(n_hidden)))\n",
    "    b2 = tf.Variable(tf.zeros(1))\n",
    "    output = tf.matmul(hidden_layer, W2) + b2\n",
    "    return output, W2, b2\n",
    "\n",
    "def neural_network_training(output, target, learning_rate, l2penalty, W, W2):\n",
    "    loss = tf.reduce_mean(tf.squared_difference(output, target)) + \\\n",
    "            l2penalty * (tf.reduce_sum(tf.square(W)) + tf.reduce_sum(tf.square(W2)))\n",
    "    optim = tf.train.GradientDescentOptimizer(learning_rate).minimize(loss)\n",
    "    return loss, optim\n",
    "\n",
    "class neural_network():\n",
    "    def __init__(self, n_features, n_hidden):\n",
    "        # Build\n",
    "        features, target, learning_rate, l2penalty = neural_network_input(n_features)\n",
    "        hidden, W, b = hidden_layer(features, n_hidden)\n",
    "        output, W2, b2 = output_layer(hidden, n_hidden)\n",
    "        loss, optim = neural_network_training(output, target, learning_rate, l2penalty, W, W2)\n",
    "        # Assign\n",
    "        self.features, self.target = features, target\n",
    "        self.learning_rate, self.l2penalty = learning_rate, l2penalty\n",
    "        self.hidden, self.output = hidden, output\n",
    "        self.loss, self.optim = loss, optim"
   ]
  },
  {
   "cell_type": "markdown",
   "metadata": {},
   "source": [
    "Now create the neural network"
   ]
  },
  {
   "cell_type": "code",
   "execution_count": 72,
   "metadata": {},
   "outputs": [
    {
     "data": {
      "text/plain": [
       "{'features': <tf.Tensor 'Placeholder:0' shape=(?, 2) dtype=float32>,\n",
       " 'hidden': <tf.Tensor 'add:0' shape=(?, 4) dtype=float32>,\n",
       " 'l2penalty': <tf.Tensor 'Placeholder_3:0' shape=<unknown> dtype=float32>,\n",
       " 'learning_rate': <tf.Tensor 'Placeholder_2:0' shape=<unknown> dtype=float32>,\n",
       " 'loss': <tf.Tensor 'add_3:0' shape=<unknown> dtype=float32>,\n",
       " 'optim': <tf.Operation 'GradientDescent' type=NoOp>,\n",
       " 'output': <tf.Tensor 'add_1:0' shape=(?, 1) dtype=float32>,\n",
       " 'target': <tf.Tensor 'Placeholder_1:0' shape=(?,) dtype=float32>}"
      ]
     },
     "execution_count": 72,
     "metadata": {},
     "output_type": "execute_result"
    }
   ],
   "source": [
    "n_features = xfeat.shape[1]\n",
    "n_hidden = 4\n",
    "\n",
    "tf.reset_default_graph()\n",
    "nn = neural_network(n_features, n_hidden)\n",
    "nn.__dict__"
   ]
  },
  {
   "cell_type": "markdown",
   "metadata": {},
   "source": [
    "Train the network"
   ]
  },
  {
   "cell_type": "code",
   "execution_count": 73,
   "metadata": {},
   "outputs": [
    {
     "name": "stdout",
     "output_type": "stream",
     "text": [
      "step   1 training loss 4.9237\n",
      "step 100 training loss 0.1067\n",
      "step 200 training loss 0.1067\n",
      "step 300 training loss 0.1067\n",
      "step 400 training loss 0.1067\n",
      "step 500 training loss 0.1067\n",
      "step 600 training loss 0.1067\n",
      "step 700 training loss 0.1067\n",
      "step 800 training loss 0.1067\n",
      "step 900 training loss 0.1067\n",
      "step 1000 training loss 0.1067\n"
     ]
    },
    {
     "data": {
      "image/png": "[encoded data removed]",
      "text/plain": [
       "<matplotlib.figure.Figure at 0x174b4483748>"
      ]
     },
     "metadata": {},
     "output_type": "display_data"
    }
   ],
   "source": [
    "train_steps = 1000\n",
    "print_every = 100\n",
    "learning_rate_ = 0.1\n",
    "l2penalty_ = 0.0\n",
    "\n",
    "with tf.Session() as sess:\n",
    "    sess.run(tf.global_variables_initializer())\n",
    "    \n",
    "    for i in range(train_steps):\n",
    "        feed = {nn.features: xfeat, nn.target: y, nn.learning_rate: learning_rate_, nn.l2penalty: l2penalty_}\n",
    "        _, l = sess.run([nn.optim, nn.loss], feed_dict = feed)\n",
    "        if i == 0 or (i + 1) % print_every == 0:\n",
    "            print(\"step %3d training loss %4.4f\" % (i + 1, l))\n",
    "            \n",
    "    output = sess.run(nn.output, feed_dict = {nn.features: xfeat, nn.target: y})\n",
    "    plt.scatter(x, output)\n",
    "    plt.scatter(x, y)\n",
    "    "
   ]
  },
  {
   "cell_type": "code",
   "execution_count": null,
   "metadata": {
    "collapsed": true
   },
   "outputs": [],
   "source": []
  },
  {
   "cell_type": "code",
   "execution_count": null,
   "metadata": {
    "collapsed": true
   },
   "outputs": [],
   "source": []
  }
 ],
 "metadata": {
  "kernelspec": {
   "display_name": "Python 3",
   "language": "python",
   "name": "python3"
  },
  "language_info": {
   "codemirror_mode": {
    "name": "ipython",
    "version": 3
   },
   "file_extension": ".py",
   "mimetype": "text/x-python",
   "name": "python",
   "nbconvert_exporter": "python",
   "pygments_lexer": "ipython3",
   "version": "3.6.3"
  }
 },
 "nbformat": 4,
 "nbformat_minor": 2
}
