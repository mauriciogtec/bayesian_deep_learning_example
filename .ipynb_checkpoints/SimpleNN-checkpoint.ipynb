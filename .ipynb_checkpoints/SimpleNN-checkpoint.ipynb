{
 "cells": [
  {
   "cell_type": "code",
   "execution_count": 1,
   "metadata": {},
   "outputs": [],
   "source": [
    "import numpy as np\n",
    "import tensorflow as tf\n",
    "from matplotlib import pyplot as plt\n",
    "%matplotlib inline"
   ]
  },
  {
   "cell_type": "markdown",
   "metadata": {},
   "source": [
    "Generate pseudo-data"
   ]
  },
  {
   "cell_type": "code",
   "execution_count": 117,
   "metadata": {},
   "outputs": [
    {
     "data": {
      "text/plain": [
       "<matplotlib.collections.PathCollection at 0x11f06e57400>"
      ]
     },
     "execution_count": 117,
     "metadata": {},
     "output_type": "execute_result"
    },
    {
     "data": {
      "image/png": "[encoded data removed]",
      "text/plain": [
       "<matplotlib.figure.Figure at 0x11f069a7470>"
      ]
     },
     "metadata": {},
     "output_type": "display_data"
    }
   ],
   "source": [
    "n = 100\n",
    "np.random.seed(110104)\n",
    "x = 4.0 * (np.random.rand(n) - 0.5)\n",
    "xfeat = np.column_stack((x, x**2, x**3, x**4, x**5))\n",
    "y = 2.0 - 0.2*x + 0.2*(2*x - 0.5)**2 + 0.5*np.random.randn(n)\n",
    "y = y.reshape((n, 1))\n",
    "\n",
    "plt.scatter(x, y)"
   ]
  },
  {
   "cell_type": "markdown",
   "metadata": {},
   "source": [
    "Create a function to generate training batches"
   ]
  },
  {
   "cell_type": "code",
   "execution_count": 122,
   "metadata": {},
   "outputs": [],
   "source": [
    "def get_batches(xfeat, y, batch_size):\n",
    "    n = xfeat.shape[0]\n",
    "    n_batches = n // batch_size\n",
    "    for i in range(n_batches):\n",
    "        yield xfeat[i*batch_size:(i + 1)*batch_size,:], y[i*batch_size:(i + 1)*batch_size, :]"
   ]
  },
  {
   "cell_type": "markdown",
   "metadata": {},
   "source": [
    "Create a very simple architecture with one hidden and a l2 regulariser"
   ]
  },
  {
   "cell_type": "code",
   "execution_count": 123,
   "metadata": {},
   "outputs": [],
   "source": [
    "def neural_network_input(n_features):\n",
    "    features = tf.placeholder(tf.float32, (None, n_features))\n",
    "    target = tf.placeholder(tf.float32, (None, 1))\n",
    "    learning_rate = tf.placeholder(tf.float32)\n",
    "    l2penalty = tf.placeholder(tf.float32)\n",
    "    return features, target, learning_rate, l2penalty\n",
    "    \n",
    "def hidden_layer(features, n_features, n_hidden):\n",
    "    W = tf.Variable(tf.truncated_normal((n_features, n_hidden), stddev=1 / np.sqrt(n_hidden)))\n",
    "    b = tf.Variable(tf.zeros(n_hidden))\n",
    "    hidden = tf.nn.relu(tf.matmul(features, W) + b)\n",
    "    return hidden, W, b\n",
    "\n",
    "def output_layer(hidden_layer, n_hidden):\n",
    "    W2 = tf.Variable(tf.truncated_normal((n_hidden, 1), stddev=1 / np.sqrt(n_hidden)))\n",
    "    b2 = tf.Variable(tf.zeros(1))\n",
    "    output = tf.matmul(hidden_layer, W2) + b2\n",
    "    return output, W2, b2\n",
    "\n",
    "def neural_network_training(output_layer, target, learning_rate, l2penalty, W, W2):\n",
    "    loss = tf.reduce_mean(tf.square(output_layer - target)) + \\\n",
    "            l2penalty * (tf.reduce_sum(tf.square(W)) + tf.reduce_sum(tf.square(W2)))\n",
    "    optim = tf.train.AdamOptimizer(learning_rate).minimize(loss)\n",
    "    return loss, optim\n",
    "\n",
    "class neural_network():\n",
    "    def __init__(self, n_features, n_hidden):\n",
    "        # Build\n",
    "        features, target, learning_rate, l2penalty = neural_network_input(n_features)\n",
    "        hidden, W, b = hidden_layer(features, n_features, n_hidden)\n",
    "        output, W2, b2 = output_layer(hidden, n_hidden)\n",
    "        loss, optim = neural_network_training(output, target, learning_rate, l2penalty, W, W2)\n",
    "        # Assign to object\n",
    "        self.features, self.target = features, target\n",
    "        self.learning_rate, self.l2penalty = learning_rate, l2penalty\n",
    "        self.hidden, self.output = hidden, output\n",
    "        self.loss, self.optim = loss, optim\n",
    "        self.W, self.b, self.W2, self.b2 = W, b, W2, b2"
   ]
  },
  {
   "cell_type": "markdown",
   "metadata": {},
   "source": [
    "Now create the neural network"
   ]
  },
  {
   "cell_type": "code",
   "execution_count": 124,
   "metadata": {},
   "outputs": [
    {
     "data": {
      "text/plain": [
       "{'W': <tf.Variable 'Variable:0' shape=(5, 2) dtype=float32_ref>,\n",
       " 'W2': <tf.Variable 'Variable_2:0' shape=(2, 1) dtype=float32_ref>,\n",
       " 'b': <tf.Variable 'Variable_1:0' shape=(2,) dtype=float32_ref>,\n",
       " 'b2': <tf.Variable 'Variable_3:0' shape=(1,) dtype=float32_ref>,\n",
       " 'features': <tf.Tensor 'Placeholder:0' shape=(?, 5) dtype=float32>,\n",
       " 'hidden': <tf.Tensor 'Relu:0' shape=(?, 2) dtype=float32>,\n",
       " 'l2penalty': <tf.Tensor 'Placeholder_3:0' shape=<unknown> dtype=float32>,\n",
       " 'learning_rate': <tf.Tensor 'Placeholder_2:0' shape=<unknown> dtype=float32>,\n",
       " 'loss': <tf.Tensor 'add_3:0' shape=<unknown> dtype=float32>,\n",
       " 'optim': <tf.Operation 'Adam' type=NoOp>,\n",
       " 'output': <tf.Tensor 'add_1:0' shape=(?, 1) dtype=float32>,\n",
       " 'target': <tf.Tensor 'Placeholder_1:0' shape=(?, 1) dtype=float32>}"
      ]
     },
     "execution_count": 124,
     "metadata": {},
     "output_type": "execute_result"
    }
   ],
   "source": [
    "n_features = xfeat.shape[1]\n",
    "n_hidden = 2\n",
    "\n",
    "tf.reset_default_graph()\n",
    "nn = neural_network(n_features, n_hidden)\n",
    "nn.__dict__"
   ]
  },
  {
   "cell_type": "markdown",
   "metadata": {},
   "source": [
    "Train the network"
   ]
  },
  {
   "cell_type": "code",
   "execution_count": 140,
   "metadata": {},
   "outputs": [
    {
     "name": "stdout",
     "output_type": "stream",
     "text": [
      "epoch  1 training loss 4.1334\n",
      "epoch 10 training loss 0.6064\n",
      "epoch 20 training loss 0.5202\n",
      "epoch 30 training loss 0.4779\n",
      "epoch 40 training loss 0.4535\n",
      "epoch 50 training loss 0.4427\n"
     ]
    },
    {
     "data": {
      "image/png": "[encoded data removed]",
      "text/plain": [
       "<matplotlib.figure.Figure at 0x11f026004e0>"
      ]
     },
     "metadata": {},
     "output_type": "display_data"
    }
   ],
   "source": [
    "epochs = 50\n",
    "print_every_epochs = 10\n",
    "batch_size = 3\n",
    "lr = 0.01\n",
    "penalty = 0.1\n",
    "\n",
    "with tf.Session() as sess:\n",
    "    sess.run(tf.global_variables_initializer())\n",
    "    for epoch in range(epochs):\n",
    "        for batch_x, batch_y in get_batches(xfeat, y, batch_size):\n",
    "            feed = {nn.features: batch_x, nn.target: batch_y, nn.learning_rate: lr, nn.l2penalty: penalty}\n",
    "            sess.run(nn.optim, feed_dict = feed)\n",
    "        if epoch == 0 or (epoch  + 1) % print_every_epochs == 0:\n",
    "            loss_ = sess.run(nn.loss, feed_dict={nn.features: xfeat, nn.target: y, nn.l2penalty: penalty})\n",
    "            print(\"epoch %2d training loss %4.4f\" % (epoch + 1, loss_))\n",
    "\n",
    "    output = sess.run(nn.output, feed_dict = {nn.features: xfeat, nn.target: y})\n",
    "    plt.scatter(x, output)\n",
    "    plt.scatter(x, y)\n",
    "    "
   ]
  },
  {
   "cell_type": "code",
   "execution_count": null,
   "metadata": {},
   "outputs": [],
   "source": []
  }
 ],
 "metadata": {
  "kernelspec": {
   "display_name": "Python 3",
   "language": "python",
   "name": "python3"
  },
  "language_info": {
   "codemirror_mode": {
    "name": "ipython",
    "version": 3
   },
   "file_extension": ".py",
   "mimetype": "text/x-python",
   "name": "python",
   "nbconvert_exporter": "python",
   "pygments_lexer": "ipython3",
   "version": "3.6.1"
  }
 },
 "nbformat": 4,
 "nbformat_minor": 2
}
