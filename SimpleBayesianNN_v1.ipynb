{
 "cells": [
  {
   "cell_type": "code",
   "execution_count": 1,
   "metadata": {
    "collapsed": true
   },
   "outputs": [],
   "source": [
    "import numpy as np\n",
    "import tensorflow as tf\n",
    "from matplotlib import pyplot as plt\n",
    "%matplotlib inline"
   ]
  },
  {
   "cell_type": "markdown",
   "metadata": {},
   "source": [
    "Generate pseudo-data"
   ]
  },
  {
   "cell_type": "code",
   "execution_count": 2,
   "metadata": {},
   "outputs": [
    {
     "data": {
      "text/plain": [
       "<matplotlib.collections.PathCollection at 0x1f219ce6e10>"
      ]
     },
     "execution_count": 2,
     "metadata": {},
     "output_type": "execute_result"
    },
    {
     "data": {
      "image/png": "[encoded data removed]",
      "text/plain": [
       "<matplotlib.figure.Figure at 0x1f2198cea20>"
      ]
     },
     "metadata": {},
     "output_type": "display_data"
    }
   ],
   "source": [
    "n = 150\n",
    "np.random.seed(110104)\n",
    "x = 4.0 * (np.random.rand(n) - 0.5)\n",
    "xfeat = np.column_stack((x**i for i in range(1, 9))) # polynomials up to degree 8\n",
    "y = 2.0 - 0.2*x + 0.2*(2*x - 0.5)**2 + 0.2 * np.random.randn(n)\n",
    "y[2] = 4.0 # Artificial outliers\n",
    "y[3] = 7.0 # Artificial outliers\n",
    "y[10] = 5.0 # Artificial outliers\n",
    "y = y.reshape((n, 1))\n",
    "\n",
    "plt.scatter(x, y)"
   ]
  },
  {
   "cell_type": "markdown",
   "metadata": {},
   "source": [
    "Let's split data in test and train (we'll use only train for Bayesian evidence and test for cross-validation)"
   ]
  },
  {
   "cell_type": "code",
   "execution_count": 3,
   "metadata": {
    "collapsed": true
   },
   "outputs": [],
   "source": [
    "n_train = 75\n",
    "xfeat_train, y_train = xfeat[:n_train, :], y[:n_train, :]\n",
    "xfeat_test, y_test = xfeat[n_train:, :], y[n_train:, :]"
   ]
  },
  {
   "cell_type": "markdown",
   "metadata": {},
   "source": [
    "This is a function to generate training batches"
   ]
  },
  {
   "cell_type": "code",
   "execution_count": 4,
   "metadata": {
    "collapsed": true
   },
   "outputs": [],
   "source": [
    "def get_batches(xfeat, y, batch_size):\n",
    "    n_batches = xfeat.shape[0] // batch_size\n",
    "    for i in range(n_batches):\n",
    "        yield xfeat[i*batch_size:(i + 1)*batch_size,:], y[i*batch_size:(i + 1)*batch_size,:]"
   ]
  },
  {
   "cell_type": "markdown",
   "metadata": {},
   "source": [
    "Create a very simple architecture with one hidden and a l2 regulariser"
   ]
  },
  {
   "cell_type": "code",
   "execution_count": 5,
   "metadata": {},
   "outputs": [],
   "source": [
    "def nn_input(dim_features, dim_output):\n",
    "    features = tf.placeholder(tf.float32, (None, dim_features))\n",
    "    target = tf.placeholder(tf.float32, (None, dim_output))\n",
    "    lr = tf.placeholder(tf.float32)\n",
    "    penalty = tf.placeholder(tf.float32)\n",
    "    precision = tf.placeholder(tf.float32)\n",
    "    return features, target, lr, penalty, precision\n",
    "    \n",
    "def hidden_layer(features, dim_features, dim_hidden):\n",
    "    # The weights are created as a vector so that taking hessian is easier\n",
    "    W = tf.Variable(tf.truncated_normal((dim_features*dim_hidden, ), stddev=1/np.sqrt(dim_features*dim_hidden)))\n",
    "    Wmat = tf.reshape(W, (dim_features, dim_hidden))\n",
    "    b = tf.Variable(tf.zeros(dim_hidden))\n",
    "    hidden = tf.nn.relu(tf.matmul(features, Wmat) + b)\n",
    "    return hidden, W, b\n",
    "\n",
    "def output_layer(hidden, dim_hidden, dim_output):\n",
    "    # The weights are created as a vector so that taking hessian is easier\n",
    "    W2 = tf.Variable(tf.truncated_normal((dim_hidden*dim_output, ), stddev=1/np.sqrt(dim_hidden*dim_output)))\n",
    "    W2mat = tf.reshape(W2, (dim_hidden, dim_output))\n",
    "    b2 = tf.Variable(tf.zeros(1))\n",
    "    output = tf.matmul(hidden, W2mat) + b2\n",
    "    return output, W2, b2\n",
    "\n",
    "def nn_loss(output, target, penalty, precision, W, W2):\n",
    "    errors = output - target\n",
    "    weights = tf.concat([W, W2], axis = 0)\n",
    "    loss = precision * tf.reduce_sum(tf.square(errors)) + penalty * tf.reduce_sum(tf.square(weights))\n",
    "    return loss, errors, weights\n",
    "\n",
    "def nn_optimization(loss, lr):\n",
    "    optim = tf.train.AdamOptimizer(lr).minimize(loss)\n",
    "    return optim\n",
    "    \n",
    "class neural_network():\n",
    "    def __init__(self, dim_features, dim_output, dim_hidden):\n",
    "        self.features, self.target, self.lr, self.penalty, self.precision = nn_input(dim_features, dim_output)\n",
    "        self.hidden, self.W, self.b = hidden_layer(self.features, dim_features, dim_hidden)\n",
    "        self.output, self.W2, self.b2 = output_layer(self.hidden, dim_hidden, dim_output)\n",
    "        self.loss, self.errors, self.weights = nn_loss(\n",
    "            self.output, self.target, self.penalty, self.precision, self.W, self.W2)\n",
    "        self.optim = nn_optimization(self.loss, self.lr)\n",
    "        self.hessian = tf.hessians(self.loss, [self.W, self.W2])[0] # Jesus! Hessians!"
   ]
  },
  {
   "cell_type": "markdown",
   "metadata": {},
   "source": [
    "Now create the neural network"
   ]
  },
  {
   "cell_type": "code",
   "execution_count": 6,
   "metadata": {},
   "outputs": [
    {
     "data": {
      "text/plain": [
       "{'W': <tf.Variable 'Variable:0' shape=(400,) dtype=float32_ref>,\n",
       " 'W2': <tf.Variable 'Variable_2:0' shape=(50,) dtype=float32_ref>,\n",
       " 'b': <tf.Variable 'Variable_1:0' shape=(50,) dtype=float32_ref>,\n",
       " 'b2': <tf.Variable 'Variable_3:0' shape=(1,) dtype=float32_ref>,\n",
       " 'errors': <tf.Tensor 'sub:0' shape=(?, 1) dtype=float32>,\n",
       " 'features': <tf.Tensor 'Placeholder:0' shape=(?, 8) dtype=float32>,\n",
       " 'hessian': <tf.Tensor 'TensorArrayStack/TensorArrayGatherV3:0' shape=(?, 400) dtype=float32>,\n",
       " 'hidden': <tf.Tensor 'Relu:0' shape=(?, 50) dtype=float32>,\n",
       " 'loss': <tf.Tensor 'add_2:0' shape=<unknown> dtype=float32>,\n",
       " 'lr': <tf.Tensor 'Placeholder_2:0' shape=<unknown> dtype=float32>,\n",
       " 'optim': <tf.Operation 'Adam' type=NoOp>,\n",
       " 'output': <tf.Tensor 'add_1:0' shape=(?, 1) dtype=float32>,\n",
       " 'penalty': <tf.Tensor 'Placeholder_3:0' shape=<unknown> dtype=float32>,\n",
       " 'precision': <tf.Tensor 'Placeholder_4:0' shape=<unknown> dtype=float32>,\n",
       " 'target': <tf.Tensor 'Placeholder_1:0' shape=(?, 1) dtype=float32>,\n",
       " 'weights': <tf.Tensor 'concat:0' shape=(450,) dtype=float32>}"
      ]
     },
     "execution_count": 6,
     "metadata": {},
     "output_type": "execute_result"
    }
   ],
   "source": [
    "dim_features = xfeat_train.shape[1]\n",
    "dim_output = y_train.shape[1]\n",
    "dim_hidden = 50\n",
    "\n",
    "tf.reset_default_graph()\n",
    "nn = neural_network(dim_features, dim_output, dim_hidden) # Takes some time to create just because there is a hessian!\n",
    "nn.__dict__"
   ]
  },
  {
   "cell_type": "markdown",
   "metadata": {},
   "source": [
    "We now train and evaluate the network"
   ]
  },
  {
   "cell_type": "code",
   "execution_count": 7,
   "metadata": {},
   "outputs": [
    {
     "name": "stdout",
     "output_type": "stream",
     "text": [
      "epoch  1 training loss 17858.8691\n",
      "epoch 50 training loss 682.9286\n",
      "epoch 100 training loss 634.6017\n",
      "epoch 150 training loss 885.7295\n",
      "epoch 200 training loss 643.4275\n",
      "epoch 250 training loss 663.7785\n",
      "epoch 300 training loss 667.2808\n",
      "epoch 350 training loss 659.0621\n",
      "epoch 400 training loss 635.3800\n",
      "epoch 450 training loss 663.4702\n",
      "epoch 500 training loss 649.6409\n"
     ]
    },
    {
     "data": {
      "image/png": "[encoded data removed]",
      "text/plain": [
       "<matplotlib.figure.Figure at 0x1f21987a4a8>"
      ]
     },
     "metadata": {},
     "output_type": "display_data"
    }
   ],
   "source": [
    "epochs = 500\n",
    "print_every_epochs = 50\n",
    "batch_size = 10\n",
    "lr = 0.01\n",
    "penalty = 0.00000001\n",
    "precision = 25.0 # because we use noise with sigma = 0.2\n",
    "\n",
    "hyperparams= {nn.penalty: penalty, nn.precision: precision, nn.lr: lr}\n",
    "full_training_feed = {nn.features: xfeat_train, nn.target: y_train, **hyperparams}\n",
    "\n",
    "with tf.Session() as sess:\n",
    "    # Training\n",
    "    sess.run(tf.global_variables_initializer())\n",
    " \n",
    "    for epoch in range(epochs):\n",
    "        for batch_x, batch_y in get_batches(xfeat_train, y_train, batch_size):\n",
    "            batch_feed = {nn.features: batch_x, nn.target: batch_y, **hyperparams}\n",
    "            sess.run(nn.optim, batch_feed)\n",
    "        if epoch == 0 or (epoch  + 1) % print_every_epochs == 0:\n",
    "            loss = sess.run(nn.loss, full_training_feed)\n",
    "            print(\"epoch %2d training loss %4.4f\" % (epoch + 1, loss))\n",
    "\n",
    "    # Visualize fit, errors, and weights\n",
    "    errors, weights, output = sess.run([nn.errors, nn.weights, nn.output], full_training_feed)\n",
    "    fig, (ax0, ax1, ax2) = plt.subplots(1, 3, figsize = (12, 3))\n",
    "    ax0.scatter(xfeat_train[:,0], y_train)\n",
    "    ax0.scatter(xfeat_train[:,0], output)\n",
    "    ax0.set_title('Fitted vs Actual')\n",
    "    ax1.hist(errors)\n",
    "    ax1.set_title('distribution of errors')\n",
    "    ax2.hist(weights)\n",
    "    ax2.set_title(\"distribution of weights\")"
   ]
  },
  {
   "cell_type": "markdown",
   "metadata": {},
   "source": [
    "Let's repeat this but with Bayesian evidence!"
   ]
  },
  {
   "cell_type": "code",
   "execution_count": 8,
   "metadata": {
    "collapsed": true
   },
   "outputs": [],
   "source": [
    "def log_evidence(hessian, loss, penalty, precision, dim_hidden, n_obs, n_weights):\n",
    "    s, logdet = np.linalg.slogdet(hessian)\n",
    "    N, k = n_obs, n_weights\n",
    "    posterior_energy = -0.5 * loss + 0.5 * k * np.log(2*np.pi) - 0.5 * logdet\n",
    "    weights_energy = 0.5 * k * np.log(2 * np.pi / penalty) \n",
    "    model_energy = 0.5 * N * np.log(2 * np.pi / precision)\n",
    "    symmetry_factor = dim_hidden * np.log(2) + np.sum(np.log(np.arange(1, dim_hidden + 1)))\n",
    "    return symmetry_factor + posterior_energy - weights_energy - model_energy"
   ]
  },
  {
   "cell_type": "code",
   "execution_count": 9,
   "metadata": {},
   "outputs": [],
   "source": [
    "def test_nn(\n",
    "        xfeat_train, y_train,\n",
    "        xfeat_test, y_test,\n",
    "        dim_hidden, \n",
    "        epochs,\n",
    "        batch_size,\n",
    "        lr,\n",
    "        penalty,\n",
    "        precision): \n",
    "    # Create network\n",
    "    dim_features = xfeat.shape[1]\n",
    "    dim_output = y.shape[1]\n",
    "    tf.reset_default_graph()\n",
    "    nn = neural_network(dim_features, dim_output, dim_hidden) # Takes some time to create just because there is a hessian!\n",
    "    # Feed dictionaries\n",
    "    hyperparams= {nn.penalty: penalty, nn.precision: precision, nn.lr: lr}\n",
    "    with tf.Session() as sess:\n",
    "        # Train\n",
    "        sess.run(tf.global_variables_initializer())\n",
    "        for epoch in range(epochs):\n",
    "            for batch_x, batch_y in get_batches(xfeat_train, y_train, batch_size):\n",
    "                batch_feed = {nn.features: batch_x, nn.target: batch_y, nn.lr: lr, **hyperparams}\n",
    "                sess.run(nn.optim, batch_feed)\n",
    "        # Find Bayesian (Log)evidence\n",
    "        full_train_feed = {nn.features: xfeat_train, nn.target: y_train, **hyperparams}\n",
    "        full_test_feed = {nn.features: xfeat_test, nn.target: y_test, **hyperparams}\n",
    "        hessian, loss_train, output, weights = sess.run([nn.hessian, nn.loss, nn.output, nn.weights], full_train_feed)\n",
    "        evidence = log_evidence(hessian, loss_train, penalty, precision, dim_hidden, len(output), len(weights)) \n",
    "        loss_test = sess.run(nn.loss, full_test_feed)\n",
    "        return evidence, loss_train, loss_test"
   ]
  },
  {
   "cell_type": "markdown",
   "metadata": {},
   "source": [
    "Test and compare evidence for multiple precisions and noises"
   ]
  },
  {
   "cell_type": "code",
   "execution_count": 16,
   "metadata": {},
   "outputs": [
    {
     "name": "stdout",
     "output_type": "stream",
     "text": [
      "dim_hid:    2  penalty:     0.00000001 evidence:   -416.04 loss_train:    693.27 loss_test:    138.20 \n",
      "dim_hid:    2  penalty:     0.00001000 evidence:   -414.04 loss_train:    666.99 loss_test:    172.23 \n",
      "dim_hid:    2  penalty:     0.00010000 evidence:   -386.62 loss_train:    684.87 loss_test:    179.39 \n",
      "dim_hid:    2  penalty:     0.00100000 evidence:   -356.24 loss_train:    689.19 loss_test:    137.48 \n",
      "dim_hid:    2  penalty:     0.01000000 evidence:   -353.30 loss_train:    673.73 loss_test:    150.74 \n",
      "dim_hid:    2  penalty:     0.10000000 evidence:   -463.73 loss_train:    984.04 loss_test:    781.40 \n",
      "dim_hid:    2  penalty:     1.00000000 evidence:  -1517.19 loss_train:   3131.02 loss_test:   2026.05 \n",
      "dim_hid:    2  penalty:    10.00000000 evidence:   -360.24 loss_train:    772.09 loss_test:    200.21 \n",
      "dim_hid:    2  penalty:   100.00000000 evidence:   -492.58 loss_train:   1065.89 loss_test:    296.84 \n",
      "Average evidence for 2 hidden variables is -528.89\n",
      "dim_hid:    5  penalty:     0.00000001 evidence:   -656.54 loss_train:    659.92 loss_test:    209.60 \n",
      "dim_hid:    5  penalty:     0.00001000 evidence:   -455.38 loss_train:    658.62 loss_test:    196.34 \n",
      "dim_hid:    5  penalty:     0.00010000 evidence:   -372.82 loss_train:    664.52 loss_test:    186.70 \n",
      "dim_hid:    5  penalty:     0.00100000 evidence:   -396.01 loss_train:    669.88 loss_test:    180.97 \n",
      "dim_hid:    5  penalty:     0.01000000 evidence:   -387.02 loss_train:    666.12 loss_test:    164.11 \n",
      "dim_hid:    5  penalty:     0.10000000 evidence:   -329.33 loss_train:    669.39 loss_test:    157.40 \n",
      "dim_hid:    5  penalty:     1.00000000 evidence:   -350.58 loss_train:    698.85 loss_test:    181.49 \n",
      "dim_hid:    5  penalty:    10.00000000 evidence:   -346.29 loss_train:    754.86 loss_test:    168.26 \n",
      "dim_hid:    5  penalty:   100.00000000 evidence:   -469.17 loss_train:   1021.86 loss_test:    297.56 \n",
      "Average evidence for 5 hidden variables is -418.12\n",
      "dim_hid:   10  penalty:     0.00000001 evidence:   -736.65 loss_train:    603.23 loss_test:    243.34 \n",
      "dim_hid:   10  penalty:     0.00001000 evidence:   -574.01 loss_train:    643.53 loss_test:    216.76 \n",
      "dim_hid:   10  penalty:     0.00010000 evidence:   -523.29 loss_train:    717.26 loss_test:    210.48 \n",
      "dim_hid:   10  penalty:     0.00100000 evidence:   -454.41 loss_train:    617.84 loss_test:    205.06 \n",
      "dim_hid:   10  penalty:     0.01000000 evidence:   -394.40 loss_train:    657.95 loss_test:    220.28 \n",
      "dim_hid:   10  penalty:     0.10000000 evidence:   -363.81 loss_train:    620.53 loss_test:    226.50 \n",
      "dim_hid:   10  penalty:     1.00000000 evidence:   -351.10 loss_train:    681.07 loss_test:    196.11 \n",
      "dim_hid:   10  penalty:    10.00000000 evidence:   -325.45 loss_train:    679.49 loss_test:    158.09 \n",
      "dim_hid:   10  penalty:   100.00000000 evidence:   -453.78 loss_train:   1019.95 loss_test:    333.66 \n",
      "Average evidence for 10 hidden variables is -464.10\n",
      "dim_hid:   25  penalty:     0.00000001 evidence:  -1120.89 loss_train:    661.25 loss_test:    261.48 \n",
      "dim_hid:   25  penalty:     0.00001000 evidence:   -680.72 loss_train:    642.70 loss_test:    224.28 \n",
      "dim_hid:   25  penalty:     0.00010000 evidence:   -591.49 loss_train:    663.32 loss_test:    206.81 \n",
      "dim_hid:   25  penalty:     0.00100000 evidence:   -528.53 loss_train:    694.61 loss_test:    230.91 \n",
      "dim_hid:   25  penalty:     0.01000000 evidence:   -447.23 loss_train:    664.28 loss_test:    260.64 \n",
      "dim_hid:   25  penalty:     0.10000000 evidence:   -402.18 loss_train:    679.08 loss_test:    268.98 \n",
      "dim_hid:   25  penalty:     1.00000000 evidence:   -324.37 loss_train:    632.49 loss_test:    202.41 \n",
      "dim_hid:   25  penalty:    10.00000000 evidence:   -316.28 loss_train:    732.56 loss_test:    134.60 \n",
      "dim_hid:   25  penalty:   100.00000000 evidence:   -404.03 loss_train:   1008.48 loss_test:    295.41 \n",
      "Average evidence for 25 hidden variables is -535.08\n",
      "dim_hid:   50  penalty:     0.00000001 evidence:  -1721.87 loss_train:    636.41 loss_test:    228.12 \n",
      "dim_hid:   50  penalty:     0.00001000 evidence:   -794.76 loss_train:    626.81 loss_test:    237.96 \n",
      "dim_hid:   50  penalty:     0.00010000 evidence:   -720.51 loss_train:    648.92 loss_test:    262.43 \n",
      "dim_hid:   50  penalty:     0.00100000 evidence:   -571.81 loss_train:    620.49 loss_test:    256.97 \n",
      "dim_hid:   50  penalty:     0.01000000 evidence:   -499.19 loss_train:    644.63 loss_test:    222.60 \n",
      "dim_hid:   50  penalty:     0.10000000 evidence:   -388.95 loss_train:    654.41 loss_test:    240.41 \n",
      "dim_hid:   50  penalty:     1.00000000 evidence:   -305.43 loss_train:    668.08 loss_test:    191.33 \n",
      "dim_hid:   50  penalty:    10.00000000 evidence:   -249.68 loss_train:    732.74 loss_test:    157.55 \n",
      "dim_hid:   50  penalty:   100.00000000 evidence:   -277.11 loss_train:    943.14 loss_test:    285.10 \n",
      "Average evidence for 50 hidden variables is -614.37\n",
      "dim_hid:  100  penalty:     0.00000001 evidence:  -2328.20 loss_train:    630.10 loss_test:    301.71 \n",
      "dim_hid:  100  penalty:     0.00001000 evidence:  -1119.58 loss_train:    649.91 loss_test:    258.75 \n",
      "dim_hid:  100  penalty:     0.00010000 evidence:   -874.78 loss_train:    676.37 loss_test:    243.17 \n",
      "dim_hid:  100  penalty:     0.00100000 evidence:   -686.63 loss_train:    630.66 loss_test:    207.71 \n",
      "dim_hid:  100  penalty:     0.01000000 evidence:   -504.46 loss_train:    669.84 loss_test:    222.03 \n",
      "dim_hid:  100  penalty:     0.10000000 evidence:   -340.08 loss_train:    620.15 loss_test:    179.03 \n",
      "dim_hid:  100  penalty:     1.00000000 evidence:   -192.07 loss_train:    638.93 loss_test:    183.10 \n",
      "dim_hid:  100  penalty:    10.00000000 evidence:   -108.04 loss_train:    791.90 loss_test:    172.25 \n",
      "dim_hid:  100  penalty:   100.00000000 evidence:    -78.79 loss_train:    996.19 loss_test:    254.96 \n",
      "Average evidence for 100 hidden variables is -692.52\n"
     ]
    }
   ],
   "source": [
    "# Optimization parameters\n",
    "epochs = 500\n",
    "batch_size = 10\n",
    "lr = 0.01\n",
    "\n",
    "# Network parameters\n",
    "dim_hidden_list = [2, 5, 10, 25, 50, 100]\n",
    "penalty_list = [0.00000001, .00001, 0.0001, 0.001, 0.01, 0.1, 1.0, 10.0, 100.0]\n",
    "precision = 25.0\n",
    "\n",
    "evidence_trace = []\n",
    "generror_trace = []\n",
    "for dim_hidden in dim_hidden_list:   \n",
    "    dim_av_evidence = 0\n",
    "    for penalty in penalty_list:     \n",
    "        bayes_train, loss_train, loss_test = test_nn(\n",
    "            xfeat_train, y_train, xfeat_test, y_test, dim_hidden, epochs, batch_size, lr, penalty, precision)\n",
    "        evidence_trace.append(bayes_train)\n",
    "        generror_trace.append(loss_test)\n",
    "        print_str = 'dim_hid: %4d  penalty: %14.8f evidence: %9.2f' + \\\n",
    "            ' loss_train: %9.2f loss_test: %9.2f '\n",
    "        dim_av_evidence += bayes_train / len(penalty_list)\n",
    "        print(print_str %(dim_hidden, penalty, bayes_train, loss_train, loss_test))\n",
    "    print('Average evidence for %d hidden variables is %0.2f' % (dim_hidden, dim_av_evidence))"
   ]
  },
  {
   "cell_type": "code",
   "execution_count": 17,
   "metadata": {
    "scrolled": true
   },
   "outputs": [
    {
     "data": {
      "text/plain": [
       "<matplotlib.text.Text at 0x1f21eb1e4a8>"
      ]
     },
     "execution_count": 17,
     "metadata": {},
     "output_type": "execute_result"
    },
    {
     "data": {
      "image/png": "[encoded data removed]",
      "text/plain": [
       "<matplotlib.figure.Figure at 0x1f21c38c5c0>"
      ]
     },
     "metadata": {},
     "output_type": "display_data"
    }
   ],
   "source": [
    "plt.scatter(evidence_trace, generror_trace)\n",
    "plt.title('Bayes evidence vs Test error')\n",
    "plt.xlabel('Evidence')\n",
    "plt.ylabel('Test error')"
   ]
  },
  {
   "cell_type": "code",
   "execution_count": 18,
   "metadata": {},
   "outputs": [
    {
     "data": {
      "text/plain": [
       "(-1600, -150)"
      ]
     },
     "execution_count": 18,
     "metadata": {},
     "output_type": "execute_result"
    },
    {
     "data": {
      "image/png": "[encoded data removed]",
      "text/plain": [
       "<matplotlib.figure.Figure at 0x1f21eb2a5f8>"
      ]
     },
     "metadata": {},
     "output_type": "display_data"
    }
   ],
   "source": [
    "plt.scatter(evidence_trace, generror_trace)\n",
    "plt.title('Bayes evidence vs Test error (Zoom)')\n",
    "plt.xlabel('Evidence')\n",
    "plt.ylabel('Test error')\n",
    "plt.ylim(100, 600)\n",
    "plt.xlim(-1600, -150)"
   ]
  }
 ],
 "metadata": {
  "kernelspec": {
   "display_name": "Python 3",
   "language": "python",
   "name": "python3"
  },
  "language_info": {
   "codemirror_mode": {
    "name": "ipython",
    "version": 3
   },
   "file_extension": ".py",
   "mimetype": "text/x-python",
   "name": "python",
   "nbconvert_exporter": "python",
   "pygments_lexer": "ipython3",
   "version": "3.6.1"
  },
  "widgets": {
   "application/vnd.jupyter.widget-state+json": {
    "state": {},
    "version_major": 1,
    "version_minor": 0
   }
  }
 },
 "nbformat": 4,
 "nbformat_minor": 2
}
